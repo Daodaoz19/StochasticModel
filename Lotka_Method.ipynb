{
 "cells": [
  {
   "cell_type": "code",
   "execution_count": 1,
   "id": "7d0bee84",
   "metadata": {},
   "outputs": [],
   "source": [
    "import numpy as np\n",
    "import matplotlib.pyplot as plt\n",
    "import pandas as pd\n",
    "import seaborn as sns\n",
    "import time"
   ]
  },
  {
   "cell_type": "code",
   "execution_count": 2,
   "id": "f1997270",
   "metadata": {},
   "outputs": [],
   "source": [
    "# Set the parameter of Lotka Propensity\n",
    "def Lotka_prop(y):\n",
    "    k1 = 1\n",
    "    k2 = 0.003\n",
    "    k3 = 1\n",
    "    \n",
    "    L_prop = [k1*y[0],k2*y[0]*y[1],k3*y[1]]\n",
    "    \n",
    "    return L_prop"
   ]
  },
  {
   "cell_type": "code",
   "execution_count": 3,
   "id": "1ca6ce5b",
   "metadata": {},
   "outputs": [],
   "source": [
    "def directMethod2(stoich_matrix, tspan, x0):\n",
    "    \n",
    "    # Initialization\n",
    "    num_species = stoich_matrix.shape[1]\n",
    "    T = tspan[0]\n",
    "    X = x0\n",
    "    rxn_count = 1\n",
    "    t = [T]\n",
    "    x = [X]\n",
    "    outputsize = (tspan[1]-tspan[0])/1000\n",
    "    outputtime = outputsize + tspan[0]\n",
    "    \n",
    "    # Main Loop\n",
    "    while T < tspan[1]:\n",
    "        reaction_propensities = Lotka_prop(X)\n",
    "#         print(reaction_propensities)\n",
    "        a0 = sum(reaction_propensities)\n",
    "        random_num = np.random.rand(2)\n",
    "#         print(random_num,a0)\n",
    "        tau = -np.log(random_num[0])/a0\n",
    "        cur_sum = 0\n",
    "        for mu, _rp in enumerate(reaction_propensities):\n",
    "            cur_sum += _rp\n",
    "            if cur_sum >= random_num[1]*a0:\n",
    "                break\n",
    "            if mu >= len(reaction_propensities):\n",
    "                mu = None\n",
    "#         cumsum_a = np.cumsum(reaction_propensities)\n",
    "        \n",
    "#         ids = (cumsum_a >= random_num[1]*a0).nonzero()\n",
    "#         mu = None if not ids else ids[0]\n",
    "            \n",
    "        if (T + tau) > outputtime:\n",
    "            t.append(T)\n",
    "            x.append(X)\n",
    "            outputtime = outputtime + outputsize\n",
    "        T = T + tau\n",
    "        X = X + stoich_matrix[mu,:]\n",
    "#         print(mu,cumsum_a.shape, 'ssssss')\n",
    "        rxn_count += 1\n",
    "        \n",
    "    if T >= tspan[1]:\n",
    "        t.append(T)\n",
    "        x.append(X)\n",
    "        \n",
    "    return t,x"
   ]
  },
  {
   "cell_type": "code",
   "execution_count": 4,
   "id": "08b396bf",
   "metadata": {},
   "outputs": [],
   "source": [
    "def ssa():\n",
    "    tspan = [0,50]\n",
    "    x0 = np.array([200,200])\n",
    "\n",
    "    stoich_matrix = np.array([[1,0],\n",
    "                             [-1,1],\n",
    "                              [0,-1]])\n",
    "\n",
    "\n",
    "    t,X_state = directMethod2(stoich_matrix,tspan,x0)\n",
    "    x= np.array(X_state)\n",
    "    return t,x\n",
    "# print(t, X_state)\n",
    "\n",
    "# # Figure 1\n",
    "# plt.figure(1)\n",
    "# plt.plot(t, x[:,0])\n",
    "# plt.xlabel('time (s)')\n",
    "# plt.ylabel('molecule number of X')\n",
    "\n",
    "# # Figure 2\n",
    "# plt.figure(2)\n",
    "# plt.plot(t, x[:,1])\n",
    "# plt.xlabel('time (s)')\n",
    "# plt.ylabel('molecule number of Y')\n",
    "\n",
    "# # Figure 3 (Phase Plot)\n",
    "# plt.figure(3)\n",
    "# plt.plot(x[:,0], x[:,1])\n",
    "# plt.title('phase plot')\n",
    "\n",
    "# plt.show()    "
   ]
  },
  {
   "cell_type": "code",
   "execution_count": 8,
   "id": "d7e56509",
   "metadata": {},
   "outputs": [
    {
     "data": {
      "text/plain": [
       "0.359375"
      ]
     },
     "execution_count": 8,
     "metadata": {},
     "output_type": "execute_result"
    }
   ],
   "source": [
    "start_time = time.process_time()\n",
    "t,x = ssa()\n",
    "end_time = time.process_time()\n",
    "cpu_time_used = end_time-start_time\n",
    "cpu_time_used"
   ]
  },
  {
   "cell_type": "code",
   "execution_count": 9,
   "id": "15791b75",
   "metadata": {},
   "outputs": [
    {
     "data": {
      "text/plain": [
       "1002"
      ]
     },
     "execution_count": 9,
     "metadata": {},
     "output_type": "execute_result"
    }
   ],
   "source": [
    "len(x)"
   ]
  },
  {
   "cell_type": "code",
   "execution_count": null,
   "id": "c9bcd76d",
   "metadata": {},
   "outputs": [],
   "source": [
    "start_time = time.process_time()\n",
    "num_run = 10000\n",
    "col_name = [f't_{i + 1}' for i in range(num_run)]+[f'x_{i + 1}' for i in range(num_run)] + [f'y_{i + 1}' for i in range(num_run)]\n",
    "result = []\n",
    "for i in range(num_run):\n",
    "    t,x = ssa()\n",
    "    result_dict = {f't_{i + 1}': t, f'x_{i + 1}': x[:,0], f'y_{i + 1}': x[:,1]}\n",
    "    result_df = pd.DataFrame(result_dict)\n",
    "    result.append(result_df)\n",
    "df = pd.concat(result, axis=1)\n",
    "end_time = time.process_time()\n",
    "cpu_time_used = end_time-start_time\n",
    "print(cpu_time_used)\n",
    "df.to_csv('Lotka_10000')"
   ]
  },
  {
   "cell_type": "code",
   "execution_count": 93,
   "id": "c86e19b2",
   "metadata": {},
   "outputs": [],
   "source": []
  },
  {
   "cell_type": "code",
   "execution_count": 98,
   "id": "65de1000",
   "metadata": {},
   "outputs": [
    {
     "data": {
      "text/html": [
       "<div>\n",
       "<style scoped>\n",
       "    .dataframe tbody tr th:only-of-type {\n",
       "        vertical-align: middle;\n",
       "    }\n",
       "\n",
       "    .dataframe tbody tr th {\n",
       "        vertical-align: top;\n",
       "    }\n",
       "\n",
       "    .dataframe thead th {\n",
       "        text-align: right;\n",
       "    }\n",
       "</style>\n",
       "<table border=\"1\" class=\"dataframe\">\n",
       "  <thead>\n",
       "    <tr style=\"text-align: right;\">\n",
       "      <th></th>\n",
       "      <th>x_row1</th>\n",
       "      <th>y_row1</th>\n",
       "      <th>x_row2</th>\n",
       "      <th>y_row2</th>\n",
       "      <th>x_row3</th>\n",
       "      <th>y_row3</th>\n",
       "      <th>x_row4</th>\n",
       "      <th>y_row4</th>\n",
       "      <th>x_row5</th>\n",
       "      <th>y_row5</th>\n",
       "    </tr>\n",
       "  </thead>\n",
       "  <tbody>\n",
       "    <tr>\n",
       "      <th>0</th>\n",
       "      <td>319.0</td>\n",
       "      <td>477.0</td>\n",
       "      <td>301.0</td>\n",
       "      <td>270.0</td>\n",
       "      <td>320.0</td>\n",
       "      <td>404.0</td>\n",
       "      <td>364.0</td>\n",
       "      <td>202.0</td>\n",
       "      <td>204.0</td>\n",
       "      <td>372.0</td>\n",
       "    </tr>\n",
       "    <tr>\n",
       "      <th>1</th>\n",
       "      <td>750.0</td>\n",
       "      <td>140.0</td>\n",
       "      <td>41.0</td>\n",
       "      <td>594.0</td>\n",
       "      <td>65.0</td>\n",
       "      <td>91.0</td>\n",
       "      <td>281.0</td>\n",
       "      <td>24.0</td>\n",
       "      <td>1099.0</td>\n",
       "      <td>103.0</td>\n",
       "    </tr>\n",
       "    <tr>\n",
       "      <th>2</th>\n",
       "      <td>431.0</td>\n",
       "      <td>487.0</td>\n",
       "      <td>194.0</td>\n",
       "      <td>241.0</td>\n",
       "      <td>385.0</td>\n",
       "      <td>402.0</td>\n",
       "      <td>391.0</td>\n",
       "      <td>274.0</td>\n",
       "      <td>247.0</td>\n",
       "      <td>231.0</td>\n",
       "    </tr>\n",
       "    <tr>\n",
       "      <th>3</th>\n",
       "      <td>858.0</td>\n",
       "      <td>485.0</td>\n",
       "      <td>64.0</td>\n",
       "      <td>193.0</td>\n",
       "      <td>470.0</td>\n",
       "      <td>88.0</td>\n",
       "      <td>125.0</td>\n",
       "      <td>559.0</td>\n",
       "      <td>352.0</td>\n",
       "      <td>124.0</td>\n",
       "    </tr>\n",
       "    <tr>\n",
       "      <th>4</th>\n",
       "      <td>529.0</td>\n",
       "      <td>668.0</td>\n",
       "      <td>140.0</td>\n",
       "      <td>219.0</td>\n",
       "      <td>594.0</td>\n",
       "      <td>486.0</td>\n",
       "      <td>200.0</td>\n",
       "      <td>200.0</td>\n",
       "      <td>552.0</td>\n",
       "      <td>489.0</td>\n",
       "    </tr>\n",
       "    <tr>\n",
       "      <th>...</th>\n",
       "      <td>...</td>\n",
       "      <td>...</td>\n",
       "      <td>...</td>\n",
       "      <td>...</td>\n",
       "      <td>...</td>\n",
       "      <td>...</td>\n",
       "      <td>...</td>\n",
       "      <td>...</td>\n",
       "      <td>...</td>\n",
       "      <td>...</td>\n",
       "    </tr>\n",
       "    <tr>\n",
       "      <th>95</th>\n",
       "      <td>351.0</td>\n",
       "      <td>446.0</td>\n",
       "      <td>412.0</td>\n",
       "      <td>221.0</td>\n",
       "      <td>357.0</td>\n",
       "      <td>382.0</td>\n",
       "      <td>226.0</td>\n",
       "      <td>262.0</td>\n",
       "      <td>468.0</td>\n",
       "      <td>396.0</td>\n",
       "    </tr>\n",
       "    <tr>\n",
       "      <th>96</th>\n",
       "      <td>403.0</td>\n",
       "      <td>715.0</td>\n",
       "      <td>165.0</td>\n",
       "      <td>92.0</td>\n",
       "      <td>1211.0</td>\n",
       "      <td>251.0</td>\n",
       "      <td>52.0</td>\n",
       "      <td>380.0</td>\n",
       "      <td>433.0</td>\n",
       "      <td>124.0</td>\n",
       "    </tr>\n",
       "    <tr>\n",
       "      <th>97</th>\n",
       "      <td>889.0</td>\n",
       "      <td>341.0</td>\n",
       "      <td>70.0</td>\n",
       "      <td>253.0</td>\n",
       "      <td>184.0</td>\n",
       "      <td>28.0</td>\n",
       "      <td>993.0</td>\n",
       "      <td>30.0</td>\n",
       "      <td>92.0</td>\n",
       "      <td>774.0</td>\n",
       "    </tr>\n",
       "    <tr>\n",
       "      <th>98</th>\n",
       "      <td>559.0</td>\n",
       "      <td>445.0</td>\n",
       "      <td>196.0</td>\n",
       "      <td>247.0</td>\n",
       "      <td>289.0</td>\n",
       "      <td>584.0</td>\n",
       "      <td>298.0</td>\n",
       "      <td>198.0</td>\n",
       "      <td>323.0</td>\n",
       "      <td>378.0</td>\n",
       "    </tr>\n",
       "    <tr>\n",
       "      <th>99</th>\n",
       "      <td>354.0</td>\n",
       "      <td>624.0</td>\n",
       "      <td>278.0</td>\n",
       "      <td>138.0</td>\n",
       "      <td>601.0</td>\n",
       "      <td>501.0</td>\n",
       "      <td>193.0</td>\n",
       "      <td>161.0</td>\n",
       "      <td>626.0</td>\n",
       "      <td>361.0</td>\n",
       "    </tr>\n",
       "  </tbody>\n",
       "</table>\n",
       "<p>100 rows × 10 columns</p>\n",
       "</div>"
      ],
      "text/plain": [
       "    x_row1  y_row1  x_row2  y_row2  x_row3  y_row3  x_row4  y_row4  x_row5  \\\n",
       "0    319.0   477.0   301.0   270.0   320.0   404.0   364.0   202.0   204.0   \n",
       "1    750.0   140.0    41.0   594.0    65.0    91.0   281.0    24.0  1099.0   \n",
       "2    431.0   487.0   194.0   241.0   385.0   402.0   391.0   274.0   247.0   \n",
       "3    858.0   485.0    64.0   193.0   470.0    88.0   125.0   559.0   352.0   \n",
       "4    529.0   668.0   140.0   219.0   594.0   486.0   200.0   200.0   552.0   \n",
       "..     ...     ...     ...     ...     ...     ...     ...     ...     ...   \n",
       "95   351.0   446.0   412.0   221.0   357.0   382.0   226.0   262.0   468.0   \n",
       "96   403.0   715.0   165.0    92.0  1211.0   251.0    52.0   380.0   433.0   \n",
       "97   889.0   341.0    70.0   253.0   184.0    28.0   993.0    30.0    92.0   \n",
       "98   559.0   445.0   196.0   247.0   289.0   584.0   298.0   198.0   323.0   \n",
       "99   354.0   624.0   278.0   138.0   601.0   501.0   193.0   161.0   626.0   \n",
       "\n",
       "    y_row5  \n",
       "0    372.0  \n",
       "1    103.0  \n",
       "2    231.0  \n",
       "3    124.0  \n",
       "4    489.0  \n",
       "..     ...  \n",
       "95   396.0  \n",
       "96   124.0  \n",
       "97   774.0  \n",
       "98   378.0  \n",
       "99   361.0  \n",
       "\n",
       "[100 rows x 10 columns]"
      ]
     },
     "execution_count": 98,
     "metadata": {},
     "output_type": "execute_result"
    }
   ],
   "source": [
    "thresholds = [10, 20, 30, 40, 50]\n",
    "row_index = []\n",
    "\n",
    "for i in thresholds:\n",
    "    index = (df['t_1']>i).idxmax()\n",
    "    row_index.append(index)\n",
    "df_1 = df.loc[row_index].reset_index(drop = True)\n",
    "# df_1\n",
    "\n",
    "reshaped_dfs = []\n",
    "for i in range(len(df_1)):\n",
    "    x_cols = [col for col in df_1.columns if col.startswith('x_') and int(col.split('_')[1]) <= 100]\n",
    "    y_cols = [col for col in df_1.columns if col.startswith('y_') and int(col.split('_')[1]) <= 100]\n",
    "\n",
    "    x_df = pd.DataFrame(df_1.iloc[i][x_cols].values, columns=[f'x_row{i+1}'])\n",
    "\n",
    "    y_df = pd.DataFrame(df_1.iloc[i][y_cols].values, columns=[f'y_row{i+1}'])\n",
    "    \n",
    "    reshaped_dfs.extend([x_df, y_df])\n",
    "\n",
    "df_2 = pd.concat(reshaped_dfs, axis=1)\n",
    "# df_2"
   ]
  },
  {
   "cell_type": "code",
   "execution_count": 108,
   "id": "7886359a",
   "metadata": {},
   "outputs": [
    {
     "data": {
      "image/png": "[encoded data removed]",
      "text/plain": [
       "<Figure size 1000x600 with 1 Axes>"
      ]
     },
     "metadata": {},
     "output_type": "display_data"
    }
   ],
   "source": [
    "sns.set(style=\"whitegrid\")\n",
    "# for column in df_2.columns:\n",
    "plt.figure(figsize=(10, 6))  # Set the figure size for each plot\n",
    "sns.histplot(df_2['y_row5'], kde=True, bins=60)  # Histogram with KDE\n",
    "# plt.title(f'Distribution of {column}')  # Set title with the column name\n",
    "plt.xlabel('Value')  # Label for the X-axis\n",
    "plt.ylabel('Frequency')  # Label for the Y-axis\n",
    "plt.show()  # Display the plot"
   ]
  },
  {
   "cell_type": "code",
   "execution_count": 130,
   "id": "1129c855",
   "metadata": {},
   "outputs": [
    {
     "data": {
      "text/plain": [
       "Text(0, 0.5, 'molecule number of X')"
      ]
     },
     "execution_count": 130,
     "metadata": {},
     "output_type": "execute_result"
    },
    {
     "data": {
      "image/png": "[encoded data removed]",
      "text/plain": [
       "<Figure size 640x480 with 1 Axes>"
      ]
     },
     "metadata": {},
     "output_type": "display_data"
    }
   ],
   "source": [
    "# df.to_csv('results.csv')\n",
    "# Figure 1\n",
    "plt.figure(1)\n",
    "plt.plot(df['t_2'], df['y_2'])\n",
    "plt.xlabel('time (s)')\n",
    "plt.ylabel('molecule number of X')"
   ]
  },
  {
   "cell_type": "code",
   "execution_count": null,
   "id": "1da081fb",
   "metadata": {},
   "outputs": [],
   "source": [
    "result"
   ]
  },
  {
   "cell_type": "code",
   "execution_count": 51,
   "id": "c1ed349a",
   "metadata": {},
   "outputs": [
    {
     "data": {
      "text/plain": [
       "(array([1, 2, 3, 4], dtype=int64),)"
      ]
     },
     "execution_count": 51,
     "metadata": {},
     "output_type": "execute_result"
    }
   ],
   "source": []
  },
  {
   "cell_type": "code",
   "execution_count": null,
   "id": "44869b72",
   "metadata": {},
   "outputs": [],
   "source": []
  }
 ],
 "metadata": {
  "kernelspec": {
   "display_name": "Python 3 (ipykernel)",
   "language": "python",
   "name": "python3"
  },
  "language_info": {
   "codemirror_mode": {
    "name": "ipython",
    "version": 3
   },
   "file_extension": ".py",
   "mimetype": "text/x-python",
   "name": "python",
   "nbconvert_exporter": "python",
   "pygments_lexer": "ipython3",
   "version": "3.8.18"
  }
 },
 "nbformat": 4,
 "nbformat_minor": 5
}
